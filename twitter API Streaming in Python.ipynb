{
 "cells": [
  {
   "cell_type": "markdown",
   "metadata": {},
   "source": [
    "# Importing necessary libraries"
   ]
  },
  {
   "cell_type": "code",
   "execution_count": null,
   "metadata": {},
   "outputs": [],
   "source": [
    "import tweepy, json\n",
    "import pandas as pd"
   ]
  },
  {
   "cell_type": "markdown",
   "metadata": {},
   "source": [
    "# Assigning API Credentials"
   ]
  },
  {
   "cell_type": "code",
   "execution_count": null,
   "metadata": {},
   "outputs": [],
   "source": [
    "api_access_token = \"Use your twitter dev api credential here\"\n",
    "api_access_token_secret = \"Use your twitter dev api credential here\"\n",
    "consumer_key = \"Use your twitter dev api credential here\"\n",
    "consumer_secret_key = \"Use your twitter dev api credential here\""
   ]
  },
  {
   "cell_type": "markdown",
   "metadata": {},
   "source": [
    "## Authorizing API using OAuth"
   ]
  },
  {
   "cell_type": "code",
   "execution_count": null,
   "metadata": {},
   "outputs": [],
   "source": [
    "authorize = tweepy.OAuthHandler(consumer_key, consumer_secret_key)\n",
    "authorize.set_access_token(api_access_token, api_access_token_secret)"
   ]
  },
  {
   "cell_type": "markdown",
   "metadata": {},
   "source": [
    "# Defining StreamListener Class [Courtesy of Hugo Bowne Anderson]"
   ]
  },
  {
   "cell_type": "code",
   "execution_count": null,
   "metadata": {},
   "outputs": [],
   "source": [
    "class MyStreamListener(tweepy.StreamListener):\n",
    "    def __init__(self, api=None):\n",
    "        super(MyStreamListener, self).__init__()\n",
    "        self.num_tweets = 0\n",
    "        self.file = open(\"Provide the path to save the file in any format you like, preferably text\", \"w\")\n",
    "\n",
    "    def on_status(self, status):\n",
    "        tweet = status._json\n",
    "        self.file.write(json.dumps(tweet) + '\\n' )\n",
    "        self.num_tweets += 1\n",
    "        if self.num_tweets < 10000:\n",
    "            return True\n",
    "        else:\n",
    "            return False\n",
    "        self.file.close()\n",
    "\n",
    "    def on_error(self, status):\n",
    "        print(status)\n",
    "\n",
    "# invoking the defined function\n",
    "listen = MyStreamListener()\n",
    "\n",
    "# authorizing tweet streaming\n",
    "streamlisten = tweepy.Stream(authorize, listen)"
   ]
  },
  {
   "cell_type": "markdown",
   "metadata": {},
   "source": [
    "### Enlist Keywords to focus on"
   ]
  },
  {
   "cell_type": "code",
   "execution_count": null,
   "metadata": {},
   "outputs": [],
   "source": [
    "keyword_list = ['Provide the list of keywords you wish to look out for']\n",
    "streamlisten.filter(track = keyword_list)"
   ]
  },
  {
   "cell_type": "markdown",
   "metadata": {},
   "source": [
    "### Load json file (key : value pairs) and iterate over a for loop to append data to the list"
   ]
  },
  {
   "cell_type": "code",
   "execution_count": null,
   "metadata": {},
   "outputs": [],
   "source": [
    "# setting path to save tweets\n",
    "tweets_dataset_path = \"Provide path to load the file you initially wrote to\"\n",
    "\n",
    "# empty list to store streamed data in\n",
    "tweet_data = []\n",
    "\n",
    "# using json library to enter streamed data into the initialized empty list  \n",
    "with open(tweets_dataset_path, \"r\") as tweeter_file:\n",
    "    for i in tweeter_file:\n",
    "        tweets = json.loads(i)\n",
    "        tweet_data.append(tweets)\n",
    "\n",
    "df = pd.DataFrame(tweet_data)\n",
    "print(df)\n",
    "\n",
    "df.to_csv(\"Provide path to save the csv file\")"
   ]
  }
 ],
 "metadata": {
  "kernelspec": {
   "display_name": "Python 3",
   "language": "python",
   "name": "python3"
  },
  "language_info": {
   "codemirror_mode": {
    "name": "ipython",
    "version": 3
   },
   "file_extension": ".py",
   "mimetype": "text/x-python",
   "name": "python",
   "nbconvert_exporter": "python",
   "pygments_lexer": "ipython3",
   "version": "3.6.5"
  }
 },
 "nbformat": 4,
 "nbformat_minor": 2
}
